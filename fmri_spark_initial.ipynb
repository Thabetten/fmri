{
 "cells": [
  {
   "cell_type": "code",
   "execution_count": 1,
   "id": "2f9b4ad0",
   "metadata": {},
   "outputs": [],
   "source": [
    "#imports\n",
    "\n",
    "import pandas as pd\n",
    "import numpy as np\n",
    "import matplotlib as ml\n",
    "import scipy as sc\n",
    "import matplotlib as mp\n"
   ]
  },
  {
   "cell_type": "code",
   "execution_count": 2,
   "id": "1557a65a",
   "metadata": {},
   "outputs": [],
   "source": [
    "#imports to set file paths\n",
    "\n",
    "import os\n",
    "import sys\n",
    "#os.environ[\"PYSPARK_PYTHON\"] = \"/opt/continuum/anaconda/bin/python\"\n",
    "os.environ[\"JAVA_HOME\"] = \"/usr/lib/jvm/java-11-openjdk-amd64\"\n",
    "#os.environ[\"SPARK_HOME\"] = \"/usr/local/spark-2.4.5-bin-hadoop2.7\"\n",
    "os.environ[\"SPARK_HOME\"] = \"/home/harry/spark/spark-3.1.2-bin-hadoop3.2\"\n"
   ]
  },
  {
   "cell_type": "code",
   "execution_count": 3,
   "id": "86f9078a",
   "metadata": {},
   "outputs": [],
   "source": [
    "#import spark\n",
    "\n",
    "\n",
    "import pyspark\n",
    "#import numpy as np\n",
    "from pyspark.sql import SQLContext\n",
    "from pyspark import SparkContext"
   ]
  },
  {
   "cell_type": "code",
   "execution_count": 4,
   "id": "d582d2c9",
   "metadata": {},
   "outputs": [],
   "source": [
    "import pyspark\n",
    "from pyspark.sql import SparkSession\n",
    "spark = SparkSession.builder.master(\"local[1]\").appName(\"trialmridata\").getOrCreate()\n"
   ]
  },
  {
   "cell_type": "code",
   "execution_count": 12,
   "id": "72bd3f16",
   "metadata": {},
   "outputs": [],
   "source": [
    "#creat spark context\n",
    "\n",
    "sc = SparkContext.getOrCreate()\n",
    "\n",
    "sqlcontext = SQLContext(sc)"
   ]
  },
  {
   "cell_type": "code",
   "execution_count": 14,
   "id": "2c795e76",
   "metadata": {},
   "outputs": [],
   "source": [
    "#read dataframe\n",
    "\n",
    "df = sqlcontext.read.options(header = 'true',  inferSchema='True', delimiter=',').csv('/home/harry/temple_job/data/t1w.csv')"
   ]
  },
  {
   "cell_type": "code",
   "execution_count": 15,
   "id": "abf14e7e",
   "metadata": {},
   "outputs": [
    {
     "name": "stdout",
     "output_type": "stream",
     "text": [
      "root\n",
      " |-- _c0: integer (nullable = true)\n",
      " |-- _created.$date: timestamp (nullable = true)\n",
      " |-- _etag: string (nullable = true)\n",
      " |-- _id.$oid: string (nullable = true)\n",
      " |-- _updated.$date: timestamp (nullable = true)\n",
      " |-- bids_meta.modality: string (nullable = true)\n",
      " |-- bids_meta.subject_id: string (nullable = true)\n",
      " |-- cjv: double (nullable = true)\n",
      " |-- cnr: double (nullable = true)\n",
      " |-- efc: double (nullable = true)\n",
      " |-- fber: double (nullable = true)\n",
      " |-- fwhm_avg: double (nullable = true)\n",
      " |-- fwhm_x: double (nullable = true)\n",
      " |-- fwhm_y: double (nullable = true)\n",
      " |-- fwhm_z: double (nullable = true)\n",
      " |-- icvs_csf: double (nullable = true)\n",
      " |-- icvs_gm: double (nullable = true)\n",
      " |-- icvs_wm: double (nullable = true)\n",
      " |-- inu_med: double (nullable = true)\n",
      " |-- inu_range: double (nullable = true)\n",
      " |-- provenance.md5sum: string (nullable = true)\n",
      " |-- provenance.settings.testing: boolean (nullable = true)\n",
      " |-- provenance.software: string (nullable = true)\n",
      " |-- provenance.version: string (nullable = true)\n",
      " |-- qi_1: double (nullable = true)\n",
      " |-- qi_2: double (nullable = true)\n",
      " |-- rpve_csf: double (nullable = true)\n",
      " |-- rpve_gm: double (nullable = true)\n",
      " |-- rpve_wm: double (nullable = true)\n",
      " |-- size_x: integer (nullable = true)\n",
      " |-- size_y: integer (nullable = true)\n",
      " |-- size_z: integer (nullable = true)\n",
      " |-- snr_csf: double (nullable = true)\n",
      " |-- snr_gm: double (nullable = true)\n",
      " |-- snr_total: double (nullable = true)\n",
      " |-- snr_wm: double (nullable = true)\n",
      " |-- snrd_csf: double (nullable = true)\n",
      " |-- snrd_gm: double (nullable = true)\n",
      " |-- snrd_total: double (nullable = true)\n",
      " |-- snrd_wm: double (nullable = true)\n",
      " |-- spacing_x: double (nullable = true)\n",
      " |-- spacing_y: double (nullable = true)\n",
      " |-- spacing_z: double (nullable = true)\n",
      " |-- summary_bg_k: double (nullable = true)\n",
      " |-- summary_bg_mad: double (nullable = true)\n",
      " |-- summary_bg_mean: double (nullable = true)\n",
      " |-- summary_bg_median: double (nullable = true)\n",
      " |-- summary_bg_n: double (nullable = true)\n",
      " |-- summary_bg_p05: double (nullable = true)\n",
      " |-- summary_bg_p95: double (nullable = true)\n",
      " |-- summary_bg_stdv: double (nullable = true)\n",
      " |-- summary_csf_k: double (nullable = true)\n",
      " |-- summary_csf_mad: double (nullable = true)\n",
      " |-- summary_csf_mean: double (nullable = true)\n",
      " |-- summary_csf_median: double (nullable = true)\n",
      " |-- summary_csf_n: double (nullable = true)\n",
      " |-- summary_csf_p05: double (nullable = true)\n",
      " |-- summary_csf_p95: double (nullable = true)\n",
      " |-- summary_csf_stdv: double (nullable = true)\n",
      " |-- summary_gm_k: double (nullable = true)\n",
      " |-- summary_gm_mad: double (nullable = true)\n",
      " |-- summary_gm_mean: double (nullable = true)\n",
      " |-- summary_gm_median: double (nullable = true)\n",
      " |-- summary_gm_n: double (nullable = true)\n",
      " |-- summary_gm_p05: double (nullable = true)\n",
      " |-- summary_gm_p95: double (nullable = true)\n",
      " |-- summary_gm_stdv: double (nullable = true)\n",
      " |-- summary_wm_k: double (nullable = true)\n",
      " |-- summary_wm_mad: double (nullable = true)\n",
      " |-- summary_wm_mean: double (nullable = true)\n",
      " |-- summary_wm_median: double (nullable = true)\n",
      " |-- summary_wm_n: double (nullable = true)\n",
      " |-- summary_wm_p05: double (nullable = true)\n",
      " |-- summary_wm_p95: double (nullable = true)\n",
      " |-- summary_wm_stdv: double (nullable = true)\n",
      " |-- tpm_overlap_csf: double (nullable = true)\n",
      " |-- tpm_overlap_gm: double (nullable = true)\n",
      " |-- tpm_overlap_wm: double (nullable = true)\n",
      " |-- wm2max: double (nullable = true)\n",
      " |-- bids_meta.EchoTime: double (nullable = true)\n",
      " |-- bids_meta.FlipAngle: double (nullable = true)\n",
      " |-- bids_meta.MagneticFieldStrength: double (nullable = true)\n",
      " |-- bids_meta.Manufacturer: string (nullable = true)\n",
      " |-- bids_meta.ManufacturersModelName: string (nullable = true)\n",
      " |-- bids_meta.PhaseEncodingDirection: string (nullable = true)\n",
      " |-- bids_meta.RepetitionTime: double (nullable = true)\n",
      " |-- bids_meta.run_id: integer (nullable = true)\n",
      " |-- bids_meta.session_id: string (nullable = true)\n",
      " |-- bids_meta.PulseSequenceType: string (nullable = true)\n",
      " |-- bids_meta.acq_id: string (nullable = true)\n",
      " |-- bids_meta.InversionTime: double (nullable = true)\n",
      " |-- bids_meta.AccelNumReferenceLines: double (nullable = true)\n",
      " |-- bids_meta.AccelerationFactorPE: double (nullable = true)\n",
      " |-- bids_meta.AcquisitionMatrix: string (nullable = true)\n",
      " |-- bids_meta.DeviceSerialNumber: string (nullable = true)\n",
      " |-- bids_meta.EchoTrainLength: double (nullable = true)\n",
      " |-- bids_meta.ImageType: string (nullable = true)\n",
      " |-- bids_meta.ImagingFrequency: double (nullable = true)\n",
      " |-- bids_meta.InPlanePhaseEncodingDirection: string (nullable = true)\n",
      " |-- bids_meta.MRAcquisitionType: double (nullable = true)\n",
      " |-- bids_meta.NumberOfAverages: double (nullable = true)\n",
      " |-- bids_meta.NumberOfPhaseEncodingSteps: double (nullable = true)\n",
      " |-- bids_meta.PatientPosition: string (nullable = true)\n",
      " |-- bids_meta.PercentPhaseFieldOfView: double (nullable = true)\n",
      " |-- bids_meta.PercentSampling: double (nullable = true)\n",
      " |-- bids_meta.PixelBandwidth: double (nullable = true)\n",
      " |-- bids_meta.ProtocolName: string (nullable = true)\n",
      " |-- bids_meta.ReceiveCoilName: string (nullable = true)\n",
      " |-- bids_meta.ScanOptions: string (nullable = true)\n",
      " |-- bids_meta.ScanningSequence: string (nullable = true)\n",
      " |-- bids_meta.SequenceName: string (nullable = true)\n",
      " |-- bids_meta.SequenceVariant: string (nullable = true)\n",
      " |-- bids_meta.SoftwareVersions: string (nullable = true)\n",
      " |-- bids_meta.TotalScanTimeSec: double (nullable = true)\n",
      " |-- bids_meta.TransmitCoilName: string (nullable = true)\n",
      " |-- bids_meta.VariableFlipAngleFlag: string (nullable = true)\n",
      " |-- provenance.email: string (nullable = true)\n",
      " |-- bids_meta.EffectiveEchoSpacing: double (nullable = true)\n",
      " |-- bids_meta.SliceEncodingDirection: string (nullable = true)\n",
      " |-- bids_meta.TotalReadoutTime: double (nullable = true)\n",
      " |-- bids_meta.ConversionSoftware: string (nullable = true)\n",
      " |-- bids_meta.ConversionSoftwareVersion: string (nullable = true)\n",
      " |-- bids_meta.InstitutionName: string (nullable = true)\n",
      " |-- bids_meta.InstitutionAddress: string (nullable = true)\n",
      " |-- bids_meta.PartialFourier: boolean (nullable = true)\n",
      " |-- bids_meta.PulseSequenceDetails: string (nullable = true)\n",
      " |-- bids_meta.ParallelReductionFactorInPlane: double (nullable = true)\n",
      " |-- bids_meta.TaskName: string (nullable = true)\n",
      " |-- bids_meta.ParallelAcquisitionTechnique: string (nullable = true)\n",
      "\n"
     ]
    }
   ],
   "source": [
    "df.printSchema()"
   ]
  },
  {
   "cell_type": "code",
   "execution_count": 16,
   "id": "f00e2323",
   "metadata": {},
   "outputs": [
    {
     "data": {
      "text/plain": [
       "['_c0',\n",
       " '_created.$date',\n",
       " '_etag',\n",
       " '_id.$oid',\n",
       " '_updated.$date',\n",
       " 'bids_meta.modality',\n",
       " 'bids_meta.subject_id',\n",
       " 'cjv',\n",
       " 'cnr',\n",
       " 'efc',\n",
       " 'fber',\n",
       " 'fwhm_avg',\n",
       " 'fwhm_x',\n",
       " 'fwhm_y',\n",
       " 'fwhm_z',\n",
       " 'icvs_csf',\n",
       " 'icvs_gm',\n",
       " 'icvs_wm',\n",
       " 'inu_med',\n",
       " 'inu_range',\n",
       " 'provenance.md5sum',\n",
       " 'provenance.settings.testing',\n",
       " 'provenance.software',\n",
       " 'provenance.version',\n",
       " 'qi_1',\n",
       " 'qi_2',\n",
       " 'rpve_csf',\n",
       " 'rpve_gm',\n",
       " 'rpve_wm',\n",
       " 'size_x',\n",
       " 'size_y',\n",
       " 'size_z',\n",
       " 'snr_csf',\n",
       " 'snr_gm',\n",
       " 'snr_total',\n",
       " 'snr_wm',\n",
       " 'snrd_csf',\n",
       " 'snrd_gm',\n",
       " 'snrd_total',\n",
       " 'snrd_wm',\n",
       " 'spacing_x',\n",
       " 'spacing_y',\n",
       " 'spacing_z',\n",
       " 'summary_bg_k',\n",
       " 'summary_bg_mad',\n",
       " 'summary_bg_mean',\n",
       " 'summary_bg_median',\n",
       " 'summary_bg_n',\n",
       " 'summary_bg_p05',\n",
       " 'summary_bg_p95',\n",
       " 'summary_bg_stdv',\n",
       " 'summary_csf_k',\n",
       " 'summary_csf_mad',\n",
       " 'summary_csf_mean',\n",
       " 'summary_csf_median',\n",
       " 'summary_csf_n',\n",
       " 'summary_csf_p05',\n",
       " 'summary_csf_p95',\n",
       " 'summary_csf_stdv',\n",
       " 'summary_gm_k',\n",
       " 'summary_gm_mad',\n",
       " 'summary_gm_mean',\n",
       " 'summary_gm_median',\n",
       " 'summary_gm_n',\n",
       " 'summary_gm_p05',\n",
       " 'summary_gm_p95',\n",
       " 'summary_gm_stdv',\n",
       " 'summary_wm_k',\n",
       " 'summary_wm_mad',\n",
       " 'summary_wm_mean',\n",
       " 'summary_wm_median',\n",
       " 'summary_wm_n',\n",
       " 'summary_wm_p05',\n",
       " 'summary_wm_p95',\n",
       " 'summary_wm_stdv',\n",
       " 'tpm_overlap_csf',\n",
       " 'tpm_overlap_gm',\n",
       " 'tpm_overlap_wm',\n",
       " 'wm2max',\n",
       " 'bids_meta.EchoTime',\n",
       " 'bids_meta.FlipAngle',\n",
       " 'bids_meta.MagneticFieldStrength',\n",
       " 'bids_meta.Manufacturer',\n",
       " 'bids_meta.ManufacturersModelName',\n",
       " 'bids_meta.PhaseEncodingDirection',\n",
       " 'bids_meta.RepetitionTime',\n",
       " 'bids_meta.run_id',\n",
       " 'bids_meta.session_id',\n",
       " 'bids_meta.PulseSequenceType',\n",
       " 'bids_meta.acq_id',\n",
       " 'bids_meta.InversionTime',\n",
       " 'bids_meta.AccelNumReferenceLines',\n",
       " 'bids_meta.AccelerationFactorPE',\n",
       " 'bids_meta.AcquisitionMatrix',\n",
       " 'bids_meta.DeviceSerialNumber',\n",
       " 'bids_meta.EchoTrainLength',\n",
       " 'bids_meta.ImageType',\n",
       " 'bids_meta.ImagingFrequency',\n",
       " 'bids_meta.InPlanePhaseEncodingDirection',\n",
       " 'bids_meta.MRAcquisitionType',\n",
       " 'bids_meta.NumberOfAverages',\n",
       " 'bids_meta.NumberOfPhaseEncodingSteps',\n",
       " 'bids_meta.PatientPosition',\n",
       " 'bids_meta.PercentPhaseFieldOfView',\n",
       " 'bids_meta.PercentSampling',\n",
       " 'bids_meta.PixelBandwidth',\n",
       " 'bids_meta.ProtocolName',\n",
       " 'bids_meta.ReceiveCoilName',\n",
       " 'bids_meta.ScanOptions',\n",
       " 'bids_meta.ScanningSequence',\n",
       " 'bids_meta.SequenceName',\n",
       " 'bids_meta.SequenceVariant',\n",
       " 'bids_meta.SoftwareVersions',\n",
       " 'bids_meta.TotalScanTimeSec',\n",
       " 'bids_meta.TransmitCoilName',\n",
       " 'bids_meta.VariableFlipAngleFlag',\n",
       " 'provenance.email',\n",
       " 'bids_meta.EffectiveEchoSpacing',\n",
       " 'bids_meta.SliceEncodingDirection',\n",
       " 'bids_meta.TotalReadoutTime',\n",
       " 'bids_meta.ConversionSoftware',\n",
       " 'bids_meta.ConversionSoftwareVersion',\n",
       " 'bids_meta.InstitutionName',\n",
       " 'bids_meta.InstitutionAddress',\n",
       " 'bids_meta.PartialFourier',\n",
       " 'bids_meta.PulseSequenceDetails',\n",
       " 'bids_meta.ParallelReductionFactorInPlane',\n",
       " 'bids_meta.TaskName',\n",
       " 'bids_meta.ParallelAcquisitionTechnique']"
      ]
     },
     "execution_count": 16,
     "metadata": {},
     "output_type": "execute_result"
    }
   ],
   "source": [
    "df.schema.names"
   ]
  },
  {
   "cell_type": "code",
   "execution_count": 17,
   "id": "bd39f154",
   "metadata": {},
   "outputs": [],
   "source": [
    "#make a reduced size dataframe\n",
    "\n",
    "\n",
    "\n",
    "#df2 = df.select(\"_etag\", \"cjv\", 'fwhm_avg', 'fwhm_x', 'fwhm_y', 'fwhm_z')\n",
    "\n",
    "df2 = df.select(\"_etag\", \"cjv\", 'fwhm_x', 'fwhm_y', 'fwhm_z')\n",
    "\n",
    "\n",
    "df2.createOrReplaceTempView(\"df2\")"
   ]
  },
  {
   "cell_type": "code",
   "execution_count": 18,
   "id": "21630598",
   "metadata": {},
   "outputs": [
    {
     "name": "stdout",
     "output_type": "stream",
     "text": [
      "+--------------------+-------------------+-----------------+-------+-------+\n",
      "|               _etag|                cjv|           fwhm_x| fwhm_y| fwhm_z|\n",
      "+--------------------+-------------------+-----------------+-------+-------+\n",
      "|e977337639152e97d...| 0.3025424913077421|3.425481743936501|3.65108|3.31968|\n",
      "|c08b2262355c1f24f...|0.32524912670057027|          4.11736|4.36596|3.87289|\n",
      "|128a6874f0d1fe67d...|0.32329039263902604|          4.10502|4.43056|3.99232|\n",
      "|40e9c3be3b4f046c7...|0.29096741151848815|          4.00096|4.41971|3.82058|\n",
      "|b3f60316a76c4fa86...| 0.3182414090121235|          4.02026|4.45114|3.82944|\n",
      "|377131abf51e45438...| 0.3519450878591101|           3.8633|4.17255|3.61909|\n",
      "|e68c9a4be2c515901...| 0.3375293687856352|          3.90992|4.26888|3.96854|\n",
      "|5fa768506055e3f1d...|0.33454299433876794|          3.75091|4.10736|3.51794|\n",
      "|197467255ec2bfb5e...| 0.2957426800953754|          4.13385|4.40638|3.90996|\n",
      "|051ffe7436ee4f225...|0.37228283655505506|          3.82576| 4.2721|3.75623|\n",
      "|a7e6d86370469cf1c...| 0.5737942807899378|          4.68951| 5.3301|4.80234|\n",
      "|9c6f5a239f5ca0a01...| 0.3025424913077421|3.425481743936501|3.65108|3.31968|\n",
      "|8614c0724d97609bd...|0.28105876978691663|          4.08148|4.50185|4.01142|\n",
      "|0a16ed35f89414dc3...|0.37841854363015687|          3.25519|3.39514|3.13734|\n",
      "|1431b2ae6ebdcd0a0...| 0.3510536780800428|          3.34337| 3.5163|3.18207|\n",
      "|fa22b825a2c3a72a5...|0.40999565032019675|          3.80069|3.89828|3.87221|\n",
      "|fde2c878ca6b09d22...| 0.4282812314797873|          3.68444|3.86295|3.83939|\n",
      "|4eb18c8eb20bc7349...|0.46463106633700096|          4.01939|4.14395|3.92387|\n",
      "|58a69421734d57826...| 0.4041180758119686|          3.75949|3.98105|3.80031|\n",
      "|4d4fa638b12a27d94...|0.36082427208491114|          3.85661|4.01957|3.94967|\n",
      "+--------------------+-------------------+-----------------+-------+-------+\n",
      "only showing top 20 rows\n",
      "\n"
     ]
    }
   ],
   "source": [
    "df2.show()"
   ]
  },
  {
   "cell_type": "code",
   "execution_count": 19,
   "id": "dd07ac87",
   "metadata": {},
   "outputs": [
    {
     "data": {
      "text/plain": [
       "1032817"
      ]
     },
     "execution_count": 19,
     "metadata": {},
     "output_type": "execute_result"
    }
   ],
   "source": [
    "df2.count()"
   ]
  },
  {
   "cell_type": "code",
   "execution_count": 20,
   "id": "7bde220d",
   "metadata": {},
   "outputs": [
    {
     "data": {
      "text/plain": [
       "1032817"
      ]
     },
     "execution_count": 20,
     "metadata": {},
     "output_type": "execute_result"
    }
   ],
   "source": [
    "df2.na.drop().count()"
   ]
  },
  {
   "cell_type": "code",
   "execution_count": 23,
   "id": "878392b9",
   "metadata": {},
   "outputs": [
    {
     "name": "stdout",
     "output_type": "stream",
     "text": [
      "+------------------+\n",
      "|          sum(cjv)|\n",
      "+------------------+\n",
      "|449374.71782270906|\n",
      "+------------------+\n",
      "\n"
     ]
    }
   ],
   "source": [
    "#test that we can analyze the set\n",
    "\n",
    "df2.groupBy().sum(\"cjv\").show()"
   ]
  },
  {
   "cell_type": "code",
   "execution_count": 24,
   "id": "2e91609b",
   "metadata": {},
   "outputs": [],
   "source": [
    "#make assembled vector suitable for ml in spark\n",
    "\n",
    "from pyspark.ml.feature import VectorAssembler\n",
    "\n",
    "#vectorAssembler = VectorAssembler(inputCols = ['cjv', 'fwhm_avg', 'fwhm_x', 'fwhm_y', 'fwhm_z'], outputCol = 'features')\n",
    "\n",
    "vectorAssembler = VectorAssembler(inputCols = ['cjv', 'fwhm_x', 'fwhm_y', 'fwhm_z'], outputCol = 'features')\n"
   ]
  },
  {
   "cell_type": "code",
   "execution_count": 25,
   "id": "8d546622",
   "metadata": {},
   "outputs": [],
   "source": [
    "#make transformed dataframe. \"features\" is the column of interest\n",
    "\n",
    "cdf = vectorAssembler.transform(df2)"
   ]
  },
  {
   "cell_type": "code",
   "execution_count": 26,
   "id": "e3fa2701",
   "metadata": {},
   "outputs": [
    {
     "name": "stdout",
     "output_type": "stream",
     "text": [
      "+--------------------+-------------------+-----------------+-------+-------+--------------------+\n",
      "|               _etag|                cjv|           fwhm_x| fwhm_y| fwhm_z|            features|\n",
      "+--------------------+-------------------+-----------------+-------+-------+--------------------+\n",
      "|e977337639152e97d...| 0.3025424913077421|3.425481743936501|3.65108|3.31968|[0.30254249130774...|\n",
      "|c08b2262355c1f24f...|0.32524912670057027|          4.11736|4.36596|3.87289|[0.32524912670057...|\n",
      "|128a6874f0d1fe67d...|0.32329039263902604|          4.10502|4.43056|3.99232|[0.32329039263902...|\n",
      "|40e9c3be3b4f046c7...|0.29096741151848815|          4.00096|4.41971|3.82058|[0.29096741151848...|\n",
      "|b3f60316a76c4fa86...| 0.3182414090121235|          4.02026|4.45114|3.82944|[0.31824140901212...|\n",
      "|377131abf51e45438...| 0.3519450878591101|           3.8633|4.17255|3.61909|[0.35194508785911...|\n",
      "|e68c9a4be2c515901...| 0.3375293687856352|          3.90992|4.26888|3.96854|[0.33752936878563...|\n",
      "|5fa768506055e3f1d...|0.33454299433876794|          3.75091|4.10736|3.51794|[0.33454299433876...|\n",
      "|197467255ec2bfb5e...| 0.2957426800953754|          4.13385|4.40638|3.90996|[0.29574268009537...|\n",
      "|051ffe7436ee4f225...|0.37228283655505506|          3.82576| 4.2721|3.75623|[0.37228283655505...|\n",
      "|a7e6d86370469cf1c...| 0.5737942807899378|          4.68951| 5.3301|4.80234|[0.57379428078993...|\n",
      "|9c6f5a239f5ca0a01...| 0.3025424913077421|3.425481743936501|3.65108|3.31968|[0.30254249130774...|\n",
      "|8614c0724d97609bd...|0.28105876978691663|          4.08148|4.50185|4.01142|[0.28105876978691...|\n",
      "|0a16ed35f89414dc3...|0.37841854363015687|          3.25519|3.39514|3.13734|[0.37841854363015...|\n",
      "|1431b2ae6ebdcd0a0...| 0.3510536780800428|          3.34337| 3.5163|3.18207|[0.35105367808004...|\n",
      "|fa22b825a2c3a72a5...|0.40999565032019675|          3.80069|3.89828|3.87221|[0.40999565032019...|\n",
      "|fde2c878ca6b09d22...| 0.4282812314797873|          3.68444|3.86295|3.83939|[0.42828123147978...|\n",
      "|4eb18c8eb20bc7349...|0.46463106633700096|          4.01939|4.14395|3.92387|[0.46463106633700...|\n",
      "|58a69421734d57826...| 0.4041180758119686|          3.75949|3.98105|3.80031|[0.40411807581196...|\n",
      "|4d4fa638b12a27d94...|0.36082427208491114|          3.85661|4.01957|3.94967|[0.36082427208491...|\n",
      "+--------------------+-------------------+-----------------+-------+-------+--------------------+\n",
      "only showing top 20 rows\n",
      "\n"
     ]
    }
   ],
   "source": [
    "cdf.show()"
   ]
  },
  {
   "cell_type": "code",
   "execution_count": 27,
   "id": "0603a7bd",
   "metadata": {},
   "outputs": [
    {
     "name": "stdout",
     "output_type": "stream",
     "text": [
      "Silhouette with squared euclidean distance = 0.9999810147319063\n",
      "Cluster Centers: \n",
      "[0.43509673 3.35286254 3.73321873 3.40962404]\n",
      "[4.19765203e-01 2.05555636e+00 4.82267177e+03 2.55626090e+00]\n",
      "[4.41236295e-01 1.92571950e+00 2.29711832e+00 4.82266868e+03]\n"
     ]
    }
   ],
   "source": [
    "#do a kmeans clustering.\n",
    "\n",
    "from pyspark.ml.clustering import KMeans\n",
    "from pyspark.ml.evaluation import ClusteringEvaluator\n",
    "\n",
    "# Loads data.\n",
    "dataset = cdf\n",
    "\n",
    "# Trains a k-means model.\n",
    "kmeans = KMeans().setK(3).setSeed(1)\n",
    "model = kmeans.fit(dataset)\n",
    "\n",
    "# Make predictions\n",
    "predictions = model.transform(dataset)\n",
    "\n",
    "# Evaluate clustering by computing Silhouette score\n",
    "evaluator = ClusteringEvaluator()\n",
    "\n",
    "silhouette = evaluator.evaluate(predictions)\n",
    "print(\"Silhouette with squared euclidean distance = \" + str(silhouette))\n",
    "\n",
    "# Shows the result.\n",
    "centers = model.clusterCenters()\n",
    "print(\"Cluster Centers: \")\n",
    "for center in centers:\n",
    "    print(center)"
   ]
  },
  {
   "cell_type": "code",
   "execution_count": 48,
   "id": "7b56d4ac",
   "metadata": {},
   "outputs": [],
   "source": [
    "cents = [c for c in centers]\n",
    "cen = np.array(list(zip(cents[0],cents[1],cents[2])))"
   ]
  },
  {
   "cell_type": "code",
   "execution_count": 49,
   "id": "74b51f4a",
   "metadata": {},
   "outputs": [
    {
     "name": "stdout",
     "output_type": "stream",
     "text": [
      "[[4.35096728e-01 4.19765203e-01 4.41236295e-01]\n",
      " [3.35286254e+00 2.05555636e+00 1.92571950e+00]\n",
      " [3.73321873e+00 4.82267177e+03 2.29711832e+00]\n",
      " [3.40962404e+00 2.55626090e+00 4.82266868e+03]]\n"
     ]
    }
   ],
   "source": [
    "print(cen)"
   ]
  },
  {
   "cell_type": "code",
   "execution_count": 51,
   "id": "3eb0cf76",
   "metadata": {},
   "outputs": [],
   "source": [
    "#plot results.\n",
    "\n",
    "import matplotlib.cm as cmx\n",
    "from mpl_toolkits.mplot3d import Axes3D\n",
    "import matplotlib.pyplot as plt\n",
    "import matplotlib\n",
    "import numpy as np\n",
    "\n",
    "\n",
    "\n",
    "def scatter3d(x,y,z, cs, colorsMap='jet'):\n",
    "    cm = plt.get_cmap(colorsMap)\n",
    "    cNorm = matplotlib.colors.Normalize(vmin=min(cs), vmax=max(cs))\n",
    "    scalarMap = cmx.ScalarMappable(norm=cNorm, cmap=cm)\n",
    "    fig = plt.figure()\n",
    "    ax = Axes3D(fig)\n",
    "    ax.scatter(x, y, z, c=scalarMap.to_rgba(cs))\n",
    "    scalarMap.set_array(cs)\n",
    "    fig.colorbar(scalarMap,label='Test')\n",
    "    plt.show()\n",
    "\n"
   ]
  },
  {
   "cell_type": "code",
   "execution_count": 53,
   "id": "827d388b",
   "metadata": {},
   "outputs": [
    {
     "name": "stderr",
     "output_type": "stream",
     "text": [
      "<ipython-input-51-00eb6e3748ab>:16: MatplotlibDeprecationWarning: Axes3D(fig) adding itself to the figure is deprecated since 3.4. Pass the keyword argument auto_add_to_figure=False and use fig.add_axes(ax) to suppress this warning. The default value of auto_add_to_figure will change to False in mpl3.5 and True values will no longer work in 3.6.  This is consistent with other Axes classes.\n",
      "  ax = Axes3D(fig)\n"
     ]
    },
    {
     "data": {
      "image/png": "[encoded data removed]",
      "text/plain": [
       "<Figure size 640x480 with 2 Axes>"
      ]
     },
     "metadata": {},
     "output_type": "display_data"
    }
   ],
   "source": [
    "\n",
    "\n",
    "scatter3d(cen[1], cen[2], cen[3] ,cen[0])"
   ]
  },
  {
   "cell_type": "code",
   "execution_count": null,
   "id": "665ad685",
   "metadata": {},
   "outputs": [],
   "source": []
  }
 ],
 "metadata": {
  "kernelspec": {
   "display_name": "Python 3",
   "language": "python",
   "name": "python3"
  },
  "language_info": {
   "codemirror_mode": {
    "name": "ipython",
    "version": 3
   },
   "file_extension": ".py",
   "mimetype": "text/x-python",
   "name": "python",
   "nbconvert_exporter": "python",
   "pygments_lexer": "ipython3",
   "version": "3.8.11"
  }
 },
 "nbformat": 4,
 "nbformat_minor": 5
}
